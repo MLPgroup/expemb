{
 "cells": [
  {
   "cell_type": "code",
   "execution_count": 1,
   "id": "5484e069",
   "metadata": {},
   "outputs": [],
   "source": [
    "%load_ext autoreload\n",
    "%autoreload 2\n",
    "\n",
    "import sys\n",
    "sys.path.append(\"../../eqnet\")\n",
    "sys.path.append(\"..\")"
   ]
  },
  {
   "cell_type": "code",
   "execution_count": 2,
   "id": "a1ba2221",
   "metadata": {},
   "outputs": [
    {
     "name": "stderr",
     "output_type": "stream",
     "text": [
      "/home/gangwar2/.miniconda/envs/expembtx/lib/python3.9/site-packages/tqdm/auto.py:22: TqdmWarning: IProgress not found. Please update jupyter and ipywidgets. See https://ipywidgets.readthedocs.io/en/stable/user_install.html\n",
      "  from .autonotebook import tqdm as notebook_tqdm\n"
     ]
    },
    {
     "name": "stdout",
     "output_type": "stream",
     "text": [
      "Reading -1 training examples from ../data/semvec/boolean10.train.gz\n",
      "Skipped 0 lines due to max sequence length restriction.\n"
     ]
    }
   ],
   "source": [
    "from expemb.data.dataset import ExpressionTreeTupleDataset\n",
    "from expemb import SemVecTokenizer\n",
    "\n",
    "tokenizer = SemVecTokenizer()\n",
    "dataset = ExpressionTreeTupleDataset(\"../data/semvec/boolean10.train.gz\", tokenizer)"
   ]
  },
  {
   "cell_type": "code",
   "execution_count": 3,
   "id": "fea177c8",
   "metadata": {},
   "outputs": [
    {
     "data": {
      "text/plain": [
       "(tensor([15, 18, 17,  7,  6, 18, 17,  6, 17,  5]),\n",
       " [[8, 9], [6, 7], [5, 6], [5, 8], [2, 3], [1, 2], [1, 4], [0, 1], [0, 5]],\n",
       " array([3, 2, 1, 0, 0, 2, 1, 0, 1, 0]),\n",
       " array([1, 1, 2, 2, 1, 2, 2, 3, 3]),\n",
       " tensor([ 0, 15, 18,  7,  5, 17, 18, 16,  7,  7,  6,  1]))"
      ]
     },
     "execution_count": 3,
     "metadata": {},
     "output_type": "execute_result"
    }
   ],
   "source": [
    "dataset[0]"
   ]
  },
  {
   "cell_type": "code",
   "execution_count": 38,
   "id": "97012801",
   "metadata": {},
   "outputs": [
    {
     "data": {
      "text/plain": [
       "'SOE and xor b a not xor or b b c EOE'"
      ]
     },
     "execution_count": 38,
     "metadata": {},
     "output_type": "execute_result"
    }
   ],
   "source": [
    "tokenizer.decode(dataset[0][-1])"
   ]
  },
  {
   "cell_type": "code",
   "execution_count": 4,
   "id": "123e1f03",
   "metadata": {
    "scrolled": true
   },
   "outputs": [],
   "source": [
    "from torch.utils.data import DataLoader"
   ]
  },
  {
   "cell_type": "code",
   "execution_count": 14,
   "id": "b9598350",
   "metadata": {},
   "outputs": [],
   "source": [
    "dataloader = DataLoader(dataset, batch_size = 8, collate_fn = dataset.collate_fn)"
   ]
  },
  {
   "cell_type": "code",
   "execution_count": 15,
   "id": "2dcbe65e",
   "metadata": {},
   "outputs": [
    {
     "data": {
      "text/plain": [
       "({'features': tensor([15, 18, 17,  7,  6, 18, 17,  6, 17,  5, 15, 18,  7,  5, 17, 18, 16,  7,\n",
       "           7,  6, 15, 18, 17,  6,  7, 18, 16,  7,  7,  5, 17, 19, 18,  5, 16,  6,\n",
       "           6, 18,  6,  7, 15, 18, 15,  6,  6,  5, 18, 17,  6,  7, 17, 19, 18,  6,\n",
       "           5, 18,  7, 16,  6,  6, 17, 19, 18,  7,  5, 17, 17, 18,  6,  7, 17, 19,\n",
       "          18,  6, 15,  5,  5, 18,  7,  6]),\n",
       "  'node_order': tensor([3, 2, 1, 0, 0, 2, 1, 0, 1, 0, 4, 1, 0, 0, 3, 2, 1, 0, 0, 0, 3, 2, 1, 0,\n",
       "          0, 2, 1, 0, 0, 0, 4, 3, 2, 0, 1, 0, 0, 1, 0, 0, 3, 2, 1, 0, 0, 0, 2, 1,\n",
       "          0, 0, 4, 3, 1, 0, 0, 2, 0, 1, 0, 0, 5, 4, 1, 0, 0, 3, 2, 1, 0, 0, 4, 3,\n",
       "          2, 0, 1, 0, 0, 1, 0, 0]),\n",
       "  'edge_order': tensor([1, 1, 2, 2, 1, 2, 2, 3, 3, 1, 1, 2, 2, 3, 1, 1, 4, 4, 1, 1, 2, 2, 1, 2,\n",
       "          2, 3, 3, 1, 1, 1, 1, 2, 2, 3, 3, 4, 1, 2, 2, 1, 1, 2, 2, 3, 3, 1, 1, 2,\n",
       "          2, 1, 1, 3, 3, 4, 1, 1, 2, 3, 1, 1, 4, 4, 5, 1, 1, 1, 1, 2, 2, 3, 3, 4]),\n",
       "  'adjacency_list': tensor([[ 8,  9],\n",
       "          [ 6,  7],\n",
       "          [ 5,  6],\n",
       "          [ 5,  8],\n",
       "          [ 2,  3],\n",
       "          [ 1,  2],\n",
       "          [ 1,  4],\n",
       "          [ 0,  1],\n",
       "          [ 0,  5],\n",
       "          [16, 17],\n",
       "          [16, 18],\n",
       "          [15, 16],\n",
       "          [15, 19],\n",
       "          [14, 15],\n",
       "          [11, 12],\n",
       "          [11, 13],\n",
       "          [10, 11],\n",
       "          [10, 14],\n",
       "          [26, 27],\n",
       "          [26, 28],\n",
       "          [25, 26],\n",
       "          [25, 29],\n",
       "          [22, 23],\n",
       "          [21, 22],\n",
       "          [21, 24],\n",
       "          [20, 21],\n",
       "          [20, 25],\n",
       "          [37, 38],\n",
       "          [37, 39],\n",
       "          [34, 35],\n",
       "          [34, 36],\n",
       "          [32, 33],\n",
       "          [32, 34],\n",
       "          [31, 32],\n",
       "          [31, 37],\n",
       "          [30, 31],\n",
       "          [47, 48],\n",
       "          [46, 47],\n",
       "          [46, 49],\n",
       "          [42, 43],\n",
       "          [42, 44],\n",
       "          [41, 42],\n",
       "          [41, 45],\n",
       "          [40, 41],\n",
       "          [40, 46],\n",
       "          [57, 58],\n",
       "          [57, 59],\n",
       "          [55, 56],\n",
       "          [55, 57],\n",
       "          [52, 53],\n",
       "          [52, 54],\n",
       "          [51, 52],\n",
       "          [51, 55],\n",
       "          [50, 51],\n",
       "          [67, 68],\n",
       "          [67, 69],\n",
       "          [66, 67],\n",
       "          [65, 66],\n",
       "          [62, 63],\n",
       "          [62, 64],\n",
       "          [61, 62],\n",
       "          [61, 65],\n",
       "          [60, 61],\n",
       "          [77, 78],\n",
       "          [77, 79],\n",
       "          [74, 75],\n",
       "          [74, 76],\n",
       "          [72, 73],\n",
       "          [72, 74],\n",
       "          [71, 72],\n",
       "          [71, 77],\n",
       "          [70, 71]]),\n",
       "  'tree_sizes': [10, 10, 10, 10, 10, 10, 10, 10]},\n",
       " tensor([[ 0,  0,  0,  0,  0,  0,  0,  0],\n",
       "         [15, 15, 17, 15, 17, 15, 17, 17],\n",
       "         [18, 18, 19, 18, 19, 18, 19, 19],\n",
       "         [ 7, 17, 18, 17, 18, 15, 18, 18],\n",
       "         [ 5,  7,  5,  6,  6,  6,  6,  7],\n",
       "         [17,  6, 16,  7,  5,  6, 15,  5],\n",
       "         [18, 18,  6, 18, 18,  5,  5, 17],\n",
       "         [16, 17,  6, 16,  7, 18,  5, 17],\n",
       "         [ 7,  6, 18,  7, 16, 17, 18, 18],\n",
       "         [ 7, 17,  6,  7,  6,  6,  7,  6],\n",
       "         [ 6,  5,  7,  5,  6,  7,  6,  7],\n",
       "         [ 1,  1,  1,  1,  1,  1,  1,  1]]))"
      ]
     },
     "execution_count": 15,
     "metadata": {},
     "output_type": "execute_result"
    }
   ],
   "source": [
    "next(iter(dataloader))"
   ]
  },
  {
   "cell_type": "code",
   "execution_count": 30,
   "id": "4cbf8e02",
   "metadata": {},
   "outputs": [],
   "source": [
    "a = [1, 2, 3]"
   ]
  },
  {
   "cell_type": "code",
   "execution_count": 32,
   "id": "2c082a8e",
   "metadata": {},
   "outputs": [
    {
     "name": "stdout",
     "output_type": "stream",
     "text": [
      "2 3\n",
      "1 2\n",
      "0 1\n"
     ]
    }
   ],
   "source": [
    "for idx, elem in reversed(list(enumerate(a))):\n",
    "    print(idx, elem)"
   ]
  },
  {
   "cell_type": "code",
   "execution_count": 19,
   "id": "7a3c93ab",
   "metadata": {},
   "outputs": [
    {
     "data": {
      "text/plain": [
       "tensor([[ True,  True,  True,  True,  True, False],\n",
       "        [ True,  True, False, False, False, False],\n",
       "        [ True,  True,  True,  True,  True,  True]])"
      ]
     },
     "execution_count": 19,
     "metadata": {},
     "output_type": "execute_result"
    }
   ],
   "source": [
    "a = torch.tensor([5, 2, 6], dtype = torch.long)\n",
    "\n",
    "import torch\n",
    "\n",
    "torch.arange(max(a))[None, :] < a[:, None]"
   ]
  },
  {
   "cell_type": "code",
   "execution_count": 17,
   "id": "090155fa",
   "metadata": {},
   "outputs": [
    {
     "ename": "TypeError",
     "evalue": "list indices must be integers or slices, not tuple",
     "output_type": "error",
     "traceback": [
      "\u001b[0;31m---------------------------------------------------------------------------\u001b[0m",
      "\u001b[0;31mTypeError\u001b[0m                                 Traceback (most recent call last)",
      "Cell \u001b[0;32mIn [17], line 1\u001b[0m\n\u001b[0;32m----> 1\u001b[0m \u001b[43ma\u001b[49m\u001b[43m[\u001b[49m\u001b[43m:\u001b[49m\u001b[43m,\u001b[49m\u001b[43m \u001b[49m\u001b[38;5;28;43;01mNone\u001b[39;49;00m\u001b[43m]\u001b[49m\n",
      "\u001b[0;31mTypeError\u001b[0m: list indices must be integers or slices, not tuple"
     ]
    }
   ],
   "source": [
    "a[:, "
   ]
  },
  {
   "cell_type": "code",
   "execution_count": null,
   "id": "a4a83be4",
   "metadata": {},
   "outputs": [],
   "source": []
  }
 ],
 "metadata": {
  "kernelspec": {
   "display_name": "Python 3 (ipykernel)",
   "language": "python",
   "name": "python3"
  },
  "language_info": {
   "codemirror_mode": {
    "name": "ipython",
    "version": 3
   },
   "file_extension": ".py",
   "mimetype": "text/x-python",
   "name": "python",
   "nbconvert_exporter": "python",
   "pygments_lexer": "ipython3",
   "version": "3.9.13"
  }
 },
 "nbformat": 4,
 "nbformat_minor": 5
}
