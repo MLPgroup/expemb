{
 "cells": [
  {
   "cell_type": "code",
   "execution_count": 1,
   "id": "2446a974",
   "metadata": {},
   "outputs": [],
   "source": [
    "import os\n",
    "import sys\n",
    "sys.path.append(\"../\")\n",
    "sys.path.append(\"../../eqnet/\")"
   ]
  },
  {
   "cell_type": "code",
   "execution_count": 12,
   "id": "da7e8a51",
   "metadata": {},
   "outputs": [],
   "source": [
    "from expemb.args import TestingResults\n",
    "from glob import glob"
   ]
  },
  {
   "cell_type": "code",
   "execution_count": 25,
   "id": "90c2b69c",
   "metadata": {},
   "outputs": [],
   "source": [
    "MODEL_DIR = \"../models/\"\n",
    "DATASETS = {\n",
    "    \"boolean8\": \"\\\\textsc{Bool8}\",\n",
    "    \"oneVarPoly13\": \"\\\\textsc{oneV-Poly13}\",\n",
    "    \"simplepoly10\": \"\\\\textsc{SimpPoly10}\",\n",
    "    \"simpleBoolean8\": \"\\\\textsc{SimpBool8}\",\n",
    "    \"boolean10\": \"\\\\textsc{Bool10}\",\n",
    "    \"simpleBoolean10\": \"\\\\textsc{SimpBool10}\",\n",
    "    \"largeBoolean5\": \"\\\\textsc{BoolL5}\",\n",
    "    \"poly8\": \"\\\\textsc{Poly8}\",\n",
    "    \"simplepoly8\": \"\\\\textsc{SimpPoly8}\",\n",
    "    \"largeSimpleBoolean5\": \"\\\\textsc{SimpBoolL5}\",\n",
    "    \"oneVarPoly10\": \"\\\\textsc{oneV-Poly10}\",\n",
    "    \"boolean5\": \"\\\\textsc{Bool5}\",\n",
    "    \"poly5\": \"\\\\textsc{Poly5}\",\n",
    "    \"simplepoly5\": \"\\\\textsc{SimpPoly5}\",\n",
    "}\n",
    "EQNET_RESULTS = {\n",
    "    \"simpleBoolean8\": \"97.4\",\n",
    "    \"simpleBoolean10\": \"99.1\",\n",
    "    \"boolean5\": \"65.8\",\n",
    "    \"boolean8\": \"58.1\",\n",
    "    \"boolean10\": \"71.4\",\n",
    "    \"largeSimpleBoolean5\": \"85.0\",\n",
    "    \"largeBoolean5\": \"75.2\",\n",
    "    \"simplepoly5\": \"65.6\",\n",
    "    \"simplepoly8\": \"98.9\",\n",
    "    \"simplepoly10\": \"99.3\",\n",
    "    \"oneVarPoly10\": \"81.3\",\n",
    "    \"oneVarPoly13\": \"90.4\",\n",
    "    \"poly5\": \"55.3\",\n",
    "    \"poly8\": \"86.2\",\n",
    "}"
   ]
  },
  {
   "cell_type": "code",
   "execution_count": 26,
   "id": "2d75b4c2",
   "metadata": {},
   "outputs": [],
   "source": [
    "def get_results(dataset, name_suffix):\n",
    "    modeldir = os.path.join(MODEL_DIR, f\"{dataset}_H64{name_suffix}\")\n",
    "    resultsfile = glob(f\"{modeldir}/results*.yaml\")\n",
    "    assert len(resultsfile) == 1, f\"{len(resultsfile)} result files found!\"\n",
    "    resultsfile = resultsfile[0]\n",
    "    results = TestingResults.load(resultsfile, drop_extra_fields=True)\n",
    "    score = results.accuracy[0][\"val/score@5/max\"]\n",
    "    return round(score * 100, 1)"
   ]
  },
  {
   "cell_type": "code",
   "execution_count": 31,
   "id": "e0a7b299",
   "metadata": {},
   "outputs": [
    {
     "name": "stdout",
     "output_type": "stream",
     "text": [
      "\\toprule\n",
      "\\multirow{2}{*}{Dataset} & \\multirow{2}{*}{\\textsc{EqNet}} & \\multicolumn{2}{c}{\\textsc{ExpEmb-TX}} \\\\\n",
      "\\cline{3-4}\n",
      "{} & {} & 6 Layers & 9 Layers \\\\\n",
      "\\hline\n",
      "\\textsc{Bool8} & 58.1 & 100.0 & 100.0 \\\\\n",
      "\\textsc{oneV-Poly13} & 90.4 & 99.4 & 99.7 \\\\\n",
      "\\textsc{SimpPoly10} & 99.3 & 99.9 & 99.8 \\\\\n",
      "\\textsc{SimpBool8} & 97.4 & 100.0 & 99.8 \\\\\n",
      "\\textsc{Bool10} & 71.4 & 97.0 & 99.4 \\\\\n",
      "\\textsc{SimpBool10} & 99.1 & 95.4 & 98.5 \\\\\n",
      "\\textsc{BoolL5} & 75.2 & 33.3 & 33.3 \\\\\n",
      "\\textsc{Poly8} & 86.2 & 85.8 & 84.0 \\\\\n",
      "\\textsc{SimpPoly8} & 98.9 & 98.7 & 98.5 \\\\\n",
      "\\textsc{SimpBoolL5} & 85.0 & 77.7 & 65.6 \\\\\n",
      "\\textsc{oneV-Poly10} & 81.3 & 62.5 & 56.3 \\\\\n",
      "\\textsc{Bool5} & 65.8 & 53.7 & 45.9 \\\\\n",
      "\\textsc{Poly5} & 55.3 & 46.8 & 43.9 \\\\\n",
      "\\textsc{SimpPoly5} & 65.6 & 19.8 & 22.9 \\\\\n",
      "\\bottomrule\n"
     ]
    }
   ],
   "source": [
    "print(\"\\\\toprule\")\n",
    "print(\"\\\\multirow{2}{*}{Dataset} & \\\\multirow{2}{*}{\\\\textsc{EqNet}} & \\\\multicolumn{2}{c}{\\\\textsc{ExpEmb-TX}} \\\\\\\\\")\n",
    "print(\"\\\\cline{3-4}\")\n",
    "print(\"{} & {} & 6 Layers & 9 Layers \\\\\\\\\")\n",
    "print(f\"\\\\hline\")\n",
    "for dataset, displayname in DATASETS.items():\n",
    "    e6d6score = get_results(dataset, \"_e6_d6\")\n",
    "    e9d9score = get_results(dataset, \"_e9_d9\")\n",
    "    eqnet = EQNET_RESULTS[dataset]\n",
    "    \n",
    "    print(f\"{displayname} & {eqnet} & {e6d6score} & {e9d9score} \\\\\\\\\")\n",
    "    \n",
    "print(\"\\\\bottomrule\")"
   ]
  },
  {
   "cell_type": "code",
   "execution_count": 24,
   "id": "813fa066",
   "metadata": {},
   "outputs": [
    {
     "name": "stdout",
     "output_type": "stream",
     "text": [
      "accuracy:\r\n",
      "- val/score@10/max: 0.9936511627906977\r\n",
      "  val/score@15/max: 0.9929612403100774\r\n",
      "  val/score@5/max: 0.9943255813953485\r\n",
      "args:\r\n",
      "  batch_size: 64\r\n",
      "  beam_sizes: null\r\n",
      "  ckpt_name: best_max\r\n",
      "  full_file: data/semvec/boolean10.json.gz\r\n",
      "  is_bool_dataset: false\r\n",
      "  max_seq_len: 512\r\n",
      "  max_test_examples: -1\r\n",
      "  precision: 16\r\n",
      "  save_dir: models/boolean10_H64_e9_d9\r\n",
      "  semvec: true\r\n",
      "  sympy_timeout: null\r\n",
      "  test_file: data/semvec/boolean10-neweqtestset.json.gz\r\n"
     ]
    }
   ],
   "source": [
    "!cat ../models/boolean10_H64_e9_d9/results-20221021-180125736816.yaml"
   ]
  },
  {
   "cell_type": "code",
   "execution_count": null,
   "id": "295ff7b4",
   "metadata": {},
   "outputs": [],
   "source": []
  }
 ],
 "metadata": {
  "kernelspec": {
   "display_name": "Python 3 (ipykernel)",
   "language": "python",
   "name": "python3"
  },
  "language_info": {
   "codemirror_mode": {
    "name": "ipython",
    "version": 3
   },
   "file_extension": ".py",
   "mimetype": "text/x-python",
   "name": "python",
   "nbconvert_exporter": "python",
   "pygments_lexer": "ipython3",
   "version": "3.9.12"
  }
 },
 "nbformat": 4,
 "nbformat_minor": 5
}
