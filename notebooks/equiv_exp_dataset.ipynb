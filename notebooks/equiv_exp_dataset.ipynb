{
 "cells": [
  {
   "cell_type": "code",
   "execution_count": 3,
   "id": "ce73342e",
   "metadata": {},
   "outputs": [],
   "source": [
    "import sys\n",
    "sys.path.append(\"..\")\n",
    "sys.path.append(\"../../eqnet\")\n",
    "\n",
    "import gzip\n",
    "import numpy as np\n",
    "from expemb import EquivExpTokenizer"
   ]
  },
  {
   "cell_type": "code",
   "execution_count": 4,
   "id": "ea03668a",
   "metadata": {},
   "outputs": [],
   "source": [
    "tokenizer = EquivExpTokenizer()"
   ]
  },
  {
   "cell_type": "code",
   "execution_count": 5,
   "id": "f2716d49",
   "metadata": {},
   "outputs": [],
   "source": [
    "def get_n_operators(prefix_eq):\n",
    "    return sum([1 for token in prefix_eq.split(\" \") if token in tokenizer.operators])\n",
    "\n",
    "def get_seq_len(prefix_eq):\n",
    "    return len(prefix_eq.split(\" \"))\n",
    "\n",
    "def get_data_stats(filepath):\n",
    "    n_ops_list = []\n",
    "    seq_len_list = []\n",
    "    \n",
    "    with gzip.open(filepath, \"rt\") as f:\n",
    "        for line in f:\n",
    "            line = line.strip()\n",
    "            seq_len = get_seq_len(line)\n",
    "            n_ops = get_n_operators(line)\n",
    "            n_ops_list.append(n_ops)\n",
    "            seq_len_list.append(seq_len)\n",
    "            \n",
    "    print(f\"Number of expressions: {len(seq_len_list):,}\")\n",
    "    return f\"${round(np.mean(n_ops_list), 2):.2f} \\pm {round(np.std(n_ops_list), 2):.2f}$\", \\\n",
    "        f\"${round(np.mean(seq_len_list), 2):.2f} \\pm {round(np.std(seq_len_list), 2):.2f}$\""
   ]
  },
  {
   "cell_type": "code",
   "execution_count": 6,
   "id": "59be3b27",
   "metadata": {},
   "outputs": [
    {
     "name": "stdout",
     "output_type": "stream",
     "text": [
      "Number of expressions: 2,744,824\n",
      "Number of expressions: 2,000\n",
      "Number of expressions: 5,000\n",
      "\\toprule\n",
      "Data Split & \\# Operators & Sequence Length \\\\\n",
      "\\midrule\n",
      "Training & $5.68 \\pm 1.32$ & $16.19 \\pm 6.28$ \\\\\n",
      "Validation & $5.60 \\pm 1.29$ & $15.03 \\pm 4.31$ \\\\\n",
      "Test & $5.98 \\pm 1.22$ & $16.20 \\pm 4.13$ \\\\\n",
      "\\bottomrule\n"
     ]
    }
   ],
   "source": [
    "train_n_ops, train_seq_len = get_data_stats(\"../data/autoenc_5_ops.train.gz\")\n",
    "val_n_ops, val_seq_len = get_data_stats(\"../data/equivexp_5_ops.valid.gz\")\n",
    "test_n_ops, test_seq_len = get_data_stats(\"../data/equivexp_5_ops.test.gz\")\n",
    "\n",
    "print(\"\\\\toprule\")\n",
    "print(\"Data Split & \\# Operators & Sequence Length \\\\\\\\\")\n",
    "print(\"\\\\midrule\")\n",
    "print(f\"Training & {train_n_ops} & {train_seq_len} \\\\\\\\\")\n",
    "print(f\"Validation & {val_n_ops} & {val_seq_len} \\\\\\\\\")\n",
    "print(f\"Test & {test_n_ops} & {test_seq_len} \\\\\\\\\")\n",
    "print(\"\\\\bottomrule\")"
   ]
  },
  {
   "cell_type": "code",
   "execution_count": 9,
   "id": "0115cac6",
   "metadata": {},
   "outputs": [],
   "source": [
    "import numpy as np"
   ]
  },
  {
   "cell_type": "code",
   "execution_count": 10,
   "id": "9c0f2a83",
   "metadata": {},
   "outputs": [
    {
     "data": {
      "text/plain": [
       "5.679241729160048"
      ]
     },
     "execution_count": 10,
     "metadata": {},
     "output_type": "execute_result"
    }
   ],
   "source": [
    "np.mean(n_ops_list)"
   ]
  },
  {
   "cell_type": "code",
   "execution_count": 11,
   "id": "ab6f1f9d",
   "metadata": {},
   "outputs": [
    {
     "data": {
      "text/plain": [
       "1.315812494489815"
      ]
     },
     "execution_count": 11,
     "metadata": {},
     "output_type": "execute_result"
    }
   ],
   "source": [
    "np.std(n_ops_list)"
   ]
  },
  {
   "cell_type": "code",
   "execution_count": 12,
   "id": "4687021c",
   "metadata": {},
   "outputs": [
    {
     "data": {
      "text/plain": [
       "[6, 6, 5, 6, 5, 6, 5, 7, 6, 7]"
      ]
     },
     "execution_count": 12,
     "metadata": {},
     "output_type": "execute_result"
    }
   ],
   "source": [
    "n_ops_list[:10]"
   ]
  },
  {
   "cell_type": "code",
   "execution_count": null,
   "id": "218ee283",
   "metadata": {},
   "outputs": [],
   "source": []
  }
 ],
 "metadata": {
  "kernelspec": {
   "display_name": "Python 3 (ipykernel)",
   "language": "python",
   "name": "python3"
  },
  "language_info": {
   "codemirror_mode": {
    "name": "ipython",
    "version": 3
   },
   "file_extension": ".py",
   "mimetype": "text/x-python",
   "name": "python",
   "nbconvert_exporter": "python",
   "pygments_lexer": "ipython3",
   "version": "3.9.12"
  }
 },
 "nbformat": 4,
 "nbformat_minor": 5
}
